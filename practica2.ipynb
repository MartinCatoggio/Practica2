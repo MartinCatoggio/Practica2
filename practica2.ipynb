{
 "cells": [
  {
   "cell_type": "markdown",
   "metadata": {},
   "source": [
    "10. Un club de hockey posee las estadísticas de todxs sus jugadorxs de la última temporada jugada del torneo de hockey mixto. Poseen una lista con los nombres, otra con los goles a favor, otra con los goles evitados y la última con las asistencias realizadas. El club está por otorgar los premios de cierre de temporada y necesita:"
   ]
  },
  {
   "cell_type": "code",
   "execution_count": 1,
   "metadata": {},
   "outputs": [],
   "source": [
    "names = \"\"\" Agustin, Yanina, Andrés, Ariadna, Bautista, CAROLINA,\n",
    "CESAR, David, Diego, Dolores, DYLAN, ELIANA, Emanuel, Fabián, Noelia,\n",
    "Francsica', FEDERICO, Fernanda, GONZALO, Nancy \"\"\"\n",
    "goals = [0, 10, 4, 0, 5, 14, 0, 0, 7, 2, 1, 1, 1, 5, 6, 1, 1, 2, 0, 11]\n",
    "goals_avoided = [0, 2, 0, 0, 5, 2, 0, 0, 1, 2, 0, 5, 5, 0, 1, 0, 2, 3, 0, 0]\n",
    "assists = [0, 5, 1, 0, 5, 2, 0, 0, 1, 2, 1, 5, 5, 0, 1, 0, 2, 3, 1, 0]\n",
    "cant_partidos = 25\n"
   ]
  },
  {
   "cell_type": "markdown",
   "metadata": {},
   "source": [
    "1. Generar una estructura todas las estadísticas asociadas a cada jugador o\n",
    "jugadora."
   ]
  },
  {
   "cell_type": "code",
   "execution_count": 2,
   "metadata": {},
   "outputs": [
    {
     "name": "stdout",
     "output_type": "stream",
     "text": [
      "{'Agustin,': (0, 0, 0), 'Yanina,': (10, 2, 5), 'Andrés,': (4, 0, 1), 'Ariadna,': (0, 0, 0), 'Bautista,': (5, 5, 5), 'CAROLINA,': (14, 2, 2), 'CESAR,': (0, 0, 0), 'David,': (0, 0, 0), 'Diego,': (7, 1, 1), 'Dolores,': (2, 2, 2), 'DYLAN,': (1, 0, 1), 'ELIANA,': (1, 5, 5), 'Emanuel,': (1, 5, 5), 'Fabián,': (5, 0, 0), 'Noelia,': (6, 1, 1), \"Francsica',\": (1, 0, 0), 'FEDERICO,': (1, 2, 2), 'Fernanda,': (2, 3, 3), 'GONZALO,': (0, 0, 1), 'Nancy': (11, 0, 0)}\n"
     ]
    }
   ],
   "source": [
    "import modulos\n",
    "jugadores = modulos.estructura(names, goals, goals_avoided, assists)\n",
    "print(jugadores)"
   ]
  },
  {
   "cell_type": "markdown",
   "metadata": {},
   "source": [
    "2. Conocer el nombre y la cantidad de goles del goleador o goleadora."
   ]
  },
  {
   "cell_type": "code",
   "execution_count": 3,
   "metadata": {},
   "outputs": [
    {
     "name": "stdout",
     "output_type": "stream",
     "text": [
      "El jugador con mayor cantidad de goles es: CAROLINA, con un total de 14 goles\n"
     ]
    }
   ],
   "source": [
    "goleadorx = modulos.goleadorx(jugadores)\n",
    "print(f\"El jugador con mayor cantidad de goles es: {goleadorx[0]} con un total de {goleadorx[1]} goles\")"
   ]
  },
  {
   "cell_type": "markdown",
   "metadata": {},
   "source": [
    "3. Conocer el nombre del jugador o jugadora más influyente, esto se consigue\n",
    "sumando goles a favor, goles evitados y cantidad de asistencias. La particularidad\n",
    "es que los goles a favor, evitados y las asistencias NO valen lo mismo (es un\n",
    "promedio ponderado): goles a favor: 1,5 --- goles evitados: 1,25 --- asistencias: 1"
   ]
  },
  {
   "cell_type": "code",
   "execution_count": 4,
   "metadata": {},
   "outputs": [
    {
     "name": "stdout",
     "output_type": "stream",
     "text": [
      "El jugadorx más inluyente fue: CAROLINA,\n"
     ]
    }
   ],
   "source": [
    "influyente = modulos.max_inf(jugadores)\n",
    "print(f\"El jugadorx más inluyente fue: {influyente}\")"
   ]
  },
  {
   "cell_type": "markdown",
   "metadata": {},
   "source": [
    "4. Conocer el promedio de goles por partido del equipo en general. Dato: Se jugaron\n",
    "25 partidos en la temporada"
   ]
  },
  {
   "cell_type": "code",
   "execution_count": 5,
   "metadata": {},
   "outputs": [
    {
     "name": "stdout",
     "output_type": "stream",
     "text": [
      "El promedio de goles del equipo en general por partido es de: 2.84\n"
     ]
    }
   ],
   "source": [
    "prom = modulos.promedio(jugadores, cant_partidos)\n",
    "print(f\"El promedio de goles del equipo en general por partido es de: {prom}\")"
   ]
  },
  {
   "cell_type": "markdown",
   "metadata": {},
   "source": [
    "5. Conocer el promedio de goles por partido del goleador o goleadora. Dato: Se\n",
    "jugaron 25 partidos en la temporada."
   ]
  },
  {
   "cell_type": "code",
   "execution_count": 6,
   "metadata": {},
   "outputs": [
    {
     "name": "stdout",
     "output_type": "stream",
     "text": [
      "El promedio de goles por partido del goleadorx es: 0.56\n"
     ]
    }
   ],
   "source": [
    "promedio_goleadorx = modulos.prom_goleadorx(goleadorx[1], cant_partidos)\n",
    "print(f\"El promedio de goles por partido del goleadorx es: {promedio_goleadorx}\")"
   ]
  }
 ],
 "metadata": {
  "kernelspec": {
   "display_name": "venv",
   "language": "python",
   "name": "python3"
  },
  "language_info": {
   "codemirror_mode": {
    "name": "ipython",
    "version": 3
   },
   "file_extension": ".py",
   "mimetype": "text/x-python",
   "name": "python",
   "nbconvert_exporter": "python",
   "pygments_lexer": "ipython3",
   "version": "3.11.7"
  }
 },
 "nbformat": 4,
 "nbformat_minor": 2
}
